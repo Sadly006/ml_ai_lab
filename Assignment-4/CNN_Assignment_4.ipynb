{
  "nbformat": 4,
  "nbformat_minor": 0,
  "metadata": {
    "colab": {
      "provenance": []
    },
    "kernelspec": {
      "name": "python3",
      "display_name": "Python 3"
    },
    "language_info": {
      "name": "python"
    }
  },
  "cells": [
    {
      "cell_type": "code",
      "source": [
        "import os\n",
        "import cv2\n",
        "import numpy as np\n",
        "from sklearn.model_selection import train_test_split\n",
        "import zipfile\n",
        "import os"
      ],
      "metadata": {
        "id": "uXiFOYM_5qao"
      },
      "execution_count": 25,
      "outputs": []
    },
    {
      "cell_type": "code",
      "source": [
        "from google.colab import drive\n",
        "drive.mount('/content/drive')"
      ],
      "metadata": {
        "colab": {
          "base_uri": "https://localhost:8080/"
        },
        "id": "i9avZ3nLeedb",
        "outputId": "2e1028ae-5501-465b-aa9d-d7d289ad7b97"
      },
      "execution_count": 27,
      "outputs": [
        {
          "output_type": "stream",
          "name": "stdout",
          "text": [
            "Drive already mounted at /content/drive; to attempt to forcibly remount, call drive.mount(\"/content/drive\", force_remount=True).\n"
          ]
        }
      ]
    },
    {
      "cell_type": "code",
      "source": [
        "zip_ref = zipfile.ZipFile('/content/drive/MyDrive/ml_lab/CNN_dataset.zip', 'r')\n",
        "zip_ref.extractall()\n",
        "zip_ref.close()"
      ],
      "metadata": {
        "id": "S2F7AwOOIM29"
      },
      "execution_count": 28,
      "outputs": []
    },
    {
      "cell_type": "code",
      "source": [
        "base_dir=\"/content/CNN_dataset\"\n",
        "pictures = []\n",
        "types = []\n",
        "categories = ['AbdomenCT', 'CXR', 'ChestCT', 'Hand', 'HeadCT']"
      ],
      "metadata": {
        "id": "Q7uE9qvLKWXz"
      },
      "execution_count": 29,
      "outputs": []
    },
    {
      "cell_type": "code",
      "source": [
        "for i, category in enumerate(categories):\n",
        "  category_path = os.path.join(base_dir, category)\n",
        "  for picture_name in os.listdir(category_path):\n",
        "      picture_path = os.path.join(category_path, picture_name)\n",
        "      img = cv2.imread(picture_path)\n",
        "      img = cv2.resize(img, (64, 64))\n",
        "      pictures.append(img)\n",
        "      types.append(i)"
      ],
      "metadata": {
        "id": "uy9eUOrYL5bk"
      },
      "execution_count": 30,
      "outputs": []
    },
    {
      "cell_type": "code",
      "source": [
        "images = np.array(pictures, dtype=np.float32)\n",
        "images = np.expand_dims(images, axis=-1)\n",
        "labels = np.array(types, dtype=np.int32)"
      ],
      "metadata": {
        "id": "gjPBRp5pt2iq"
      },
      "execution_count": 31,
      "outputs": []
    },
    {
      "cell_type": "code",
      "source": [
        "x_train, x_test, y_train, y_test = train_test_split(\n",
        "    pictures,types,test_size=0.20, stratify=types, random_state=42)\n",
        "\n",
        "x_train, x_val, y_train, y_val = train_test_split(\n",
        "    x_train, y_train, test_size=0.1/0.6,\n",
        "    stratify=y_train, random_state=35)"
      ],
      "metadata": {
        "id": "hETtFB7fuAio"
      },
      "execution_count": 32,
      "outputs": []
    },
    {
      "cell_type": "code",
      "source": [
        "x_train = np.array(x_train, dtype='float32') / 255.0\n",
        "x_val = np.array(x_val, dtype='float32') / 255.0\n",
        "x_test = np.array(x_test, dtype='float32') / 255.0\n"
      ],
      "metadata": {
        "id": "soxtf3eBwDxR"
      },
      "execution_count": 33,
      "outputs": []
    },
    {
      "cell_type": "code",
      "source": [
        "import tensorflow as tf\n",
        "from tensorflow.keras.preprocessing import image\n",
        "from tensorflow.keras.preprocessing.image import ImageDataGenerator\n",
        "from tensorflow.keras.models import Sequential, load_model\n",
        "from tensorflow.keras.optimizers import RMSprop\n",
        "from tensorflow.keras.callbacks import ReduceLROnPlateau\n",
        "from tensorflow.keras.layers import Dense, Flatten, Conv2D, Dropout, MaxPooling2D, AvgPool2D\n",
        "from tensorflow.keras.callbacks import CSVLogger, ModelCheckpoint, ReduceLROnPlateau, EarlyStopping"
      ],
      "metadata": {
        "id": "bnr3LdQGwMT3"
      },
      "execution_count": 34,
      "outputs": []
    },
    {
      "cell_type": "code",
      "source": [
        "model = tf.keras.Sequential()\n",
        "model.add(Conv2D(filters=64, kernel_size=(2,2),strides=(1, 1), padding='same', activation='relu', input_shape=(64,64,3))) \n",
        "model.add(MaxPooling2D(pool_size=(2,2)))\n",
        "model.add(Dropout(0.3))\n",
        "model.add(Conv2D(filters=32, kernel_size=(2,2),strides=(1, 1), padding='same', activation='relu'))\n",
        "model.add(MaxPooling2D(pool_size=(2,2)))\n",
        "model.add(Dropout(0.3))\n",
        "model.add(Conv2D(filters=64, kernel_size=(2,2),strides=(1, 1), padding='same', activation='relu'))\n",
        "model.add(MaxPooling2D(pool_size=(2,2)))\n",
        "model.add(Flatten())\n",
        "model.add(Dense(256, activation='relu'))\n",
        "model.add(Dropout(0.5))\n",
        "model.add(Dense(5, activation='softmax'))\n",
        "model.summary()\n",
        "model.compile(loss='sparse_categorical_crossentropy', optimizer='adam', metrics=['accuracy'])"
      ],
      "metadata": {
        "id": "egLD4nCYM4T_",
        "colab": {
          "base_uri": "https://localhost:8080/"
        },
        "outputId": "9a999a00-c6a8-496f-b78d-b0b34b9e6988"
      },
      "execution_count": 35,
      "outputs": [
        {
          "output_type": "stream",
          "name": "stdout",
          "text": [
            "Model: \"sequential_1\"\n",
            "_________________________________________________________________\n",
            " Layer (type)                Output Shape              Param #   \n",
            "=================================================================\n",
            " conv2d_3 (Conv2D)           (None, 64, 64, 64)        832       \n",
            "                                                                 \n",
            " max_pooling2d_3 (MaxPooling  (None, 32, 32, 64)       0         \n",
            " 2D)                                                             \n",
            "                                                                 \n",
            " dropout_3 (Dropout)         (None, 32, 32, 64)        0         \n",
            "                                                                 \n",
            " conv2d_4 (Conv2D)           (None, 32, 32, 32)        8224      \n",
            "                                                                 \n",
            " max_pooling2d_4 (MaxPooling  (None, 16, 16, 32)       0         \n",
            " 2D)                                                             \n",
            "                                                                 \n",
            " dropout_4 (Dropout)         (None, 16, 16, 32)        0         \n",
            "                                                                 \n",
            " conv2d_5 (Conv2D)           (None, 16, 16, 64)        8256      \n",
            "                                                                 \n",
            " max_pooling2d_5 (MaxPooling  (None, 8, 8, 64)         0         \n",
            " 2D)                                                             \n",
            "                                                                 \n",
            " flatten_1 (Flatten)         (None, 4096)              0         \n",
            "                                                                 \n",
            " dense_2 (Dense)             (None, 256)               1048832   \n",
            "                                                                 \n",
            " dropout_5 (Dropout)         (None, 256)               0         \n",
            "                                                                 \n",
            " dense_3 (Dense)             (None, 5)                 1285      \n",
            "                                                                 \n",
            "=================================================================\n",
            "Total params: 1,067,429\n",
            "Trainable params: 1,067,429\n",
            "Non-trainable params: 0\n",
            "_________________________________________________________________\n"
          ]
        }
      ]
    },
    {
      "cell_type": "code",
      "source": [
        "x_train = x_train.reshape(-1,64, 64,3)\n",
        "x_test = x_test.reshape(-1,64, 64, 3)\n",
        "x_train.shape"
      ],
      "metadata": {
        "id": "w8jNbBDfNgl1",
        "colab": {
          "base_uri": "https://localhost:8080/"
        },
        "outputId": "55ba3e1d-890f-47bd-ea2d-c8e27252e8b2"
      },
      "execution_count": 36,
      "outputs": [
        {
          "output_type": "execute_result",
          "data": {
            "text/plain": [
              "(33333, 64, 64, 3)"
            ]
          },
          "metadata": {},
          "execution_count": 36
        }
      ]
    },
    {
      "cell_type": "code",
      "source": [
        "y_train = np.array(y_train)\n",
        "\n",
        "model_log=model.fit(x_train, y_train,\n",
        "          batch_size=60,\n",
        "          epochs=5,\n",
        "          verbose=1,\n",
        "          validation_split=.3)\n"
      ],
      "metadata": {
        "colab": {
          "base_uri": "https://localhost:8080/"
        },
        "id": "vsMIece4xFKt",
        "outputId": "905fb9fd-8463-4de5-d9db-4886d085de18"
      },
      "execution_count": 37,
      "outputs": [
        {
          "output_type": "stream",
          "name": "stdout",
          "text": [
            "Epoch 1/5\n",
            "389/389 [==============================] - 258s 660ms/step - loss: 0.1380 - accuracy: 0.9572 - val_loss: 0.0549 - val_accuracy: 0.9949\n",
            "Epoch 2/5\n",
            "389/389 [==============================] - 236s 607ms/step - loss: 0.0203 - accuracy: 0.9944 - val_loss: 0.0134 - val_accuracy: 0.9968\n",
            "Epoch 3/5\n",
            "389/389 [==============================] - 232s 596ms/step - loss: 0.0198 - accuracy: 0.9941 - val_loss: 0.0153 - val_accuracy: 0.9963\n",
            "Epoch 4/5\n",
            "389/389 [==============================] - 234s 600ms/step - loss: 0.0094 - accuracy: 0.9976 - val_loss: 0.0111 - val_accuracy: 0.9967\n",
            "Epoch 5/5\n",
            "389/389 [==============================] - 230s 592ms/step - loss: 0.0051 - accuracy: 0.9985 - val_loss: 0.0075 - val_accuracy: 0.9980\n"
          ]
        }
      ]
    },
    {
      "cell_type": "code",
      "source": [
        "y_test = np.array(y_test)\n",
        "score = model.evaluate(x_test, y_test, verbose=0)\n",
        "print('\\n', 'Test accuracy:', score[1])"
      ],
      "metadata": {
        "id": "6SIBRNG8xGo-",
        "colab": {
          "base_uri": "https://localhost:8080/"
        },
        "outputId": "310b3137-ac40-49c2-c728-863b138b9ac2"
      },
      "execution_count": 38,
      "outputs": [
        {
          "output_type": "stream",
          "name": "stdout",
          "text": [
            "\n",
            " Test accuracy: 0.9983999729156494\n"
          ]
        }
      ]
    },
    {
      "cell_type": "code",
      "source": [
        "import os\n",
        "import matplotlib.pyplot as plt\n",
        "fig = plt.figure()\n",
        "plt.subplot(2,1,1)\n",
        "plt.plot(model_log.history['accuracy'])\n",
        "plt.plot(model_log.history['val_accuracy'])\n",
        "plt.title('model accuracy')\n",
        "plt.ylabel('accuracy')\n",
        "plt.xlabel('epoch')\n",
        "plt.legend(['train', 'test'], loc='lower right')\n",
        "plt.subplot(2,1,2)\n",
        "plt.plot(model_log.history['loss'])\n",
        "plt.plot(model_log.history['val_loss'])\n",
        "plt.title('model loss')\n",
        "plt.ylabel('loss')\n",
        "plt.xlabel('epoch')\n",
        "plt.legend(['train', 'test'], loc='upper right')\n",
        "plt.tight_layout()"
      ],
      "metadata": {
        "id": "vn6sn3arxSvA",
        "colab": {
          "base_uri": "https://localhost:8080/",
          "height": 297
        },
        "outputId": "313129aa-ef14-4d89-a026-df6e0e46a004"
      },
      "execution_count": 39,
      "outputs": [
        {
          "output_type": "display_data",
          "data": {
            "text/plain": [
              "<Figure size 432x288 with 2 Axes>"
            ],
            "image/png": "[encoded data removed]"
          },
          "metadata": {
            "needs_background": "light"
          }
        }
      ]
    }
  ]
}